{
 "cells": [
  {
   "cell_type": "code",
   "execution_count": 1,
   "metadata": {},
   "outputs": [],
   "source": [
    "%load_ext autoreload\n",
    "%autoreload 2\n",
    "import HyperParam as hp\n",
    "import AEhelper as ae\n",
    "import tensorflow as tf\n",
    "import pandas as pd\n",
    "import matplotlib as mpl\n",
    "import numpy as np\n",
    "import matplotlib.pyplot as plt\n",
    "import sklearn\n",
    "import cv2\n",
    "import tqdm\n",
    "\n",
    "from tqdm import tqdm\n",
    "from sklearn import preprocessing\n",
    "from sklearn.preprocessing import OneHotEncoder\n",
    "from tensorflow import keras\n",
    "from tensorflow.keras import optimizers\n",
    "from pandas import DataFrame\n",
    "\n",
    "pd.set_option(\"display.max_columns\",200)"
   ]
  },
  {
   "cell_type": "code",
   "execution_count": 2,
   "metadata": {},
   "outputs": [],
   "source": [
    "def zizagcode(arrary,imgsize=16):\n",
    "    #锯齿形编码填充\n",
    "    zigzag=np.zeros([imgsize,imgsize])\n",
    "    row=zigzag.shape[0]\n",
    "    colum=zigzag.shape[1]\n",
    "    i,j,k=0,0,0\n",
    "    while i < row and j < colum and k < len(arrary):\n",
    "        zigzag[i,j]=arrary[k]\n",
    "        k+=1\n",
    "        #i+j为偶数，向右上方向移动\n",
    "        if (i+j)%2==0 :\n",
    "            #如果右边界超出，则向下\n",
    "            if (i-1) in range(row) and (j+1) not in range(colum):\n",
    "                i+=1\n",
    "            #如果上边界超出，则向下\n",
    "            elif (i-1) not in range(row) and (j+1) in range(colum):\n",
    "                j+=1\n",
    "            #如果右上边界都超出，则向下\n",
    "            elif (i-1) not in range(row) and (j+1) not in range(colum):\n",
    "                i+=1\n",
    "            else:\n",
    "                i-=1\n",
    "                j+=1\n",
    "        #i+j为奇数，则向左下移动\n",
    "        elif (i+j)%2==1:\n",
    "            #如果左边界超出，则向下\n",
    "            if (i+1) in range(row) and (j-1) not in range(colum):\n",
    "                i+=1\n",
    "            #如果上边界超出，则向下\n",
    "            elif (i+1) not in range(row) and (j-1) in range(colum):\n",
    "                j+=1\n",
    "            #如果右上边界都超出，则向下\n",
    "            elif (i+1) not in range(row) and (j-1) not in range(colum):\n",
    "                j+=1\n",
    "            else:\n",
    "                i+=1\n",
    "                j-=1\n",
    "    \n",
    "    #zigza填充结束，进行IDCT\n",
    "    idct=cv2.idct(zigzag.flatten())\n",
    "    img=idct.reshape([imgsize,imgsize,1])\n",
    "    \n",
    "    return img"
   ]
  },
  {
   "cell_type": "code",
   "execution_count": 3,
   "metadata": {},
   "outputs": [],
   "source": [
    "def label_change(x):\n",
    "    if(x == 'Benign'):\n",
    "        return False\n",
    "    else:\n",
    "        return True"
   ]
  },
  {
   "cell_type": "code",
   "execution_count": 4,
   "metadata": {},
   "outputs": [
    {
     "name": "stdout",
     "output_type": "stream",
     "text": [
      "load_data shape: (1048575, 80)\n",
      "train_data: (996077, 78)   val_data: (52498, 78)\n"
     ]
    }
   ],
   "source": [
    "dataset_path='D:/狠狠地干活/dataset/IDS2018/IDS2018/'\n",
    "traindata_file='Thursday-15-02-2018_TrafficForML_CICFlowMeter.csv'\n",
    "data=pd.read_csv(dataset_path+traindata_file)\n",
    "data=data.reset_index(drop=True)\n",
    "print('load_data shape:',data.shape)\n",
    "#save label\n",
    "label=DataFrame(index=data.index)\n",
    "label['Label']=data['Label']\n",
    "\n",
    "data_drop=data.drop(columns=['Label','Timestamp'])\n",
    "data_strandlize=data_drop.apply(lambda x : (x-np.mean(x))/np.std(x))#z-score\n",
    "data_normalize=data_strandlize.apply(lambda x: (x-np.min(x))/(np.max(x)-np.min(x))*255.)#min-max\n",
    "data_normalize=data_normalize.fillna(0)\n",
    "\n",
    "data_pre=pd.concat([data_normalize,label],axis=1)\n",
    "train_data=data_pre.loc[data_pre['Label'].isin(['Benign'])]\n",
    "train_data=train_data.drop(columns='Label')\n",
    "train_data=train_data.reset_index(drop=True)\n",
    "\n",
    "val_data=data_pre.loc[~data_pre['Label'].isin(['Benign'])]\n",
    "val_data=val_data.drop(columns='Label')\n",
    "val_data=val_data.reset_index(drop=True)\n",
    "\n",
    "print('train_data:',train_data.shape,'  val_data:',val_data.shape)\n"
   ]
  },
  {
   "cell_type": "code",
   "execution_count": 5,
   "metadata": {},
   "outputs": [
    {
     "data": {
      "text/plain": [
       "(<BatchDataset shapes: ((None, 16, 16, 1), (None, 16, 16, 1)), types: (tf.float32, tf.float32)>,\n",
       " <BatchDataset shapes: ((None, 16, 16, 1), (None, 16, 16, 1)), types: (tf.float32, tf.float32)>)"
      ]
     },
     "execution_count": 5,
     "metadata": {},
     "output_type": "execute_result"
    }
   ],
   "source": [
    "train_x=[]\n",
    "val_x=[]\n",
    "for i in range(train_data.shape[0]):\n",
    "    img=zizagcode(np.array(train_data.iloc[i]),16)\n",
    "    train_x.append(img)\n",
    "    \n",
    "for i in range(val_data.shape[0]):\n",
    "    img=zizagcode(np.array(val_data.iloc[i]),16)\n",
    "    val_x.append(img)\n",
    "    \n",
    "train_x=tf.convert_to_tensor(train_x,dtype=tf.float32)/255.\n",
    "val_x=tf.convert_to_tensor(val_x,dtype=tf.float32)/255.\n",
    "\n",
    "ds_train=tf.data.Dataset.from_tensor_slices((train_x,train_x)).shuffle(1312).batch(128)\n",
    "ds_val=tf.data.Dataset.from_tensor_slices((val_x,val_x)).shuffle(1312).batch(128)\n",
    "ds_train,ds_val"
   ]
  },
  {
   "cell_type": "code",
   "execution_count": 6,
   "metadata": {},
   "outputs": [
    {
     "name": "stdout",
     "output_type": "stream",
     "text": [
      "before flatten shape: (2, 2, 8)\n",
      "after flatten shape: (None, 32)\n",
      "Model: \"model\"\n",
      "_________________________________________________________________\n",
      "Layer (type)                 Output Shape              Param #   \n",
      "=================================================================\n",
      "input_1 (InputLayer)         [(None, 16, 16, 1)]       0         \n",
      "_________________________________________________________________\n",
      "conv2d (Conv2D)              (None, 16, 16, 32)        320       \n",
      "_________________________________________________________________\n",
      "max_pooling2d (MaxPooling2D) (None, 8, 8, 32)          0         \n",
      "_________________________________________________________________\n",
      "dropout (Dropout)            (None, 8, 8, 32)          0         \n",
      "_________________________________________________________________\n",
      "conv2d_1 (Conv2D)            (None, 8, 8, 16)          4624      \n",
      "_________________________________________________________________\n",
      "max_pooling2d_1 (MaxPooling2 (None, 4, 4, 16)          0         \n",
      "_________________________________________________________________\n",
      "dropout_1 (Dropout)          (None, 4, 4, 16)          0         \n",
      "_________________________________________________________________\n",
      "conv2d_2 (Conv2D)            (None, 4, 4, 8)           1160      \n",
      "_________________________________________________________________\n",
      "max_pooling2d_2 (MaxPooling2 (None, 2, 2, 8)           0         \n",
      "_________________________________________________________________\n",
      "dropout_2 (Dropout)          (None, 2, 2, 8)           0         \n",
      "_________________________________________________________________\n",
      "flatten (Flatten)            (None, 32)                0         \n",
      "_________________________________________________________________\n",
      "dense (Dense)                (None, 4)                 132       \n",
      "_________________________________________________________________\n",
      "dense_1 (Dense)              (None, 32)                160       \n",
      "_________________________________________________________________\n",
      "reshape (Reshape)            (None, 2, 2, 8)           0         \n",
      "_________________________________________________________________\n",
      "up_sampling2d (UpSampling2D) (None, 4, 4, 8)           0         \n",
      "_________________________________________________________________\n",
      "conv2d_3 (Conv2D)            (None, 4, 4, 8)           584       \n",
      "_________________________________________________________________\n",
      "dropout_3 (Dropout)          (None, 4, 4, 8)           0         \n",
      "_________________________________________________________________\n",
      "up_sampling2d_1 (UpSampling2 (None, 8, 8, 8)           0         \n",
      "_________________________________________________________________\n",
      "conv2d_4 (Conv2D)            (None, 8, 8, 16)          1168      \n",
      "_________________________________________________________________\n",
      "dropout_4 (Dropout)          (None, 8, 8, 16)          0         \n",
      "_________________________________________________________________\n",
      "up_sampling2d_2 (UpSampling2 (None, 16, 16, 16)        0         \n",
      "_________________________________________________________________\n",
      "conv2d_5 (Conv2D)            (None, 16, 16, 32)        4640      \n",
      "_________________________________________________________________\n",
      "conv2d_6 (Conv2D)            (None, 16, 16, 1)         289       \n",
      "=================================================================\n",
      "Total params: 13,077\n",
      "Trainable params: 13,077\n",
      "Non-trainable params: 0\n",
      "_________________________________________________________________\n",
      "None\n",
      "开始训练\n",
      "Epoch 1/5\n",
      "7782/7782 [==============================] - 1185s 152ms/step - loss: 0.0273 - val_loss: 0.0077\n",
      "Epoch 2/5\n",
      "7782/7782 [==============================] - 1175s 151ms/step - loss: 0.0046 - val_loss: 0.0074\n",
      "Epoch 3/5\n",
      "7782/7782 [==============================] - 1171s 151ms/step - loss: 0.0045 - val_loss: 0.0074\n",
      "Epoch 4/5\n",
      "7782/7782 [==============================] - 1172s 151ms/step - loss: 0.0045 - val_loss: 0.0073\n",
      "Epoch 5/5\n",
      "7782/7782 [==============================] - 1175s 151ms/step - loss: 0.0045 - val_loss: 0.0072\n"
     ]
    }
   ],
   "source": [
    "optimizer=optimizers.Adam(learning_rate=5e-4)\n",
    "\n",
    "hparam=hp.hyperP(model_name='model2D.h5',\n",
    "                 input_size=(16,16,1),\n",
    "                 layers=[32,16,8,4],\n",
    "                 dropout_rate=[0.3,0.2,0.2,0.2],\n",
    "                 activation='relu',\n",
    "                 optimizer=optimizer,\n",
    "                 loss='mse'\n",
    "                 )\n",
    "hparam.epochs=5\n",
    "\n",
    "model=ae.creat_model_2D(hparam)\n",
    "history=ae.train(model=model,\n",
    "                 ds_train=ds_train,\n",
    "                 ds_val=ds_val,\n",
    "                 hp=hparam)"
   ]
  },
  {
   "cell_type": "code",
   "execution_count": 7,
   "metadata": {},
   "outputs": [
    {
     "name": "stdout",
     "output_type": "stream",
     "text": [
      "load_data shape: (1048575, 80)\n",
      "test_data: (486191, 78)   test_label: True     286191\n",
      "False    200000\n",
      "Name: Label, dtype: int64\n"
     ]
    }
   ],
   "source": [
    "dataset_path='D:/狠狠地干活/dataset/IDS2018/IDS2018/'\n",
    "traindata_file='Friday-02-03-2018_TrafficForML_CICFlowMeter.csv'\n",
    "data=pd.read_csv(dataset_path+traindata_file)\n",
    "data=data.reset_index(drop=True)\n",
    "print('load_data shape:',data.shape)\n",
    "#save label\n",
    "datat=data.loc[data['Label'].isin(['Benign'])]\n",
    "datat=datat.sample(n=200000)\n",
    "datat=datat.reset_index(drop=True)\n",
    "\n",
    "dataf=data.loc[~data['Label'].isin(['Benign'])]\n",
    "dataf=dataf.reset_index(drop=True)\n",
    "test_data=pd.concat([datat,dataf],axis=0)\n",
    "test_data=test_data.sample(frac=1)\n",
    "test_data=test_data.reset_index(drop=True)\n",
    "\n",
    "test_label=DataFrame(index=test_data.index)\n",
    "test_label['Label']=test_data['Label']\n",
    "test_label=test_label.applymap(label_change)\n",
    "test_data=test_data.drop(columns=['Label','Timestamp'])\n",
    "\n",
    "data_strandlize=test_data.apply(lambda x : (x-np.mean(x))/np.std(x))#z-score\n",
    "data_normalize=data_strandlize.apply(lambda x: (x-np.min(x))/(np.max(x)-np.min(x))*255.)#min-max\n",
    "test_data=data_normalize.fillna(0)\n",
    "\n",
    "print('test_data:',test_data.shape,'  test_label:',test_label['Label'].value_counts())"
   ]
  },
  {
   "cell_type": "code",
   "execution_count": 8,
   "metadata": {},
   "outputs": [
    {
     "data": {
      "text/plain": [
       "(16, 16, 1)"
      ]
     },
     "execution_count": 8,
     "metadata": {},
     "output_type": "execute_result"
    }
   ],
   "source": [
    "ds_test=[]\n",
    "\n",
    "for i in range(test_data.shape[0]):\n",
    "    img=zizagcode(np.array(test_data.iloc[i]))\n",
    "    ds_test.append(img)\n",
    "ds_test[0].shape"
   ]
  },
  {
   "cell_type": "code",
   "execution_count": 13,
   "metadata": {},
   "outputs": [],
   "source": [
    "#model=tf.keras.models.load_model('model2D.h5')\n",
    "ds_test=tf.convert_to_tensor(ds_test,dtype=tf.float32)/255.\n",
    "pred=model.predict(ds_test)"
   ]
  },
  {
   "cell_type": "code",
   "execution_count": 14,
   "metadata": {},
   "outputs": [
    {
     "data": {
      "text/plain": [
       "(486191, 16, 16, 1)"
      ]
     },
     "execution_count": 14,
     "metadata": {},
     "output_type": "execute_result"
    }
   ],
   "source": [
    "pred.shape"
   ]
  },
  {
   "cell_type": "code",
   "execution_count": 20,
   "metadata": {},
   "outputs": [],
   "source": [
    "loss=np.abs(pred-ds_test)\n",
    "loss=loss.reshape(486191,-1)\n",
    "loss=DataFrame(np.mean(loss,axis=1))\n",
    "predloss=DataFrame(index=loss.index)\n",
    "predloss['Loss']=loss[0]\n",
    "predloss['Label']=test_label['Label']"
   ]
  },
  {
   "cell_type": "code",
   "execution_count": 17,
   "metadata": {},
   "outputs": [
    {
     "data": {
      "text/plain": [
       "{'Accuracy': 0.5886390328080939,\n",
       " 'Recall': 1.0,\n",
       " 'Precision': 0.5886390328080939}"
      ]
     },
     "execution_count": 17,
     "metadata": {},
     "output_type": "execute_result"
    }
   ],
   "source": [
    "a,b=ae.Assessment(0.0045,predloss)\n",
    "b"
   ]
  },
  {
   "cell_type": "code",
   "execution_count": 21,
   "metadata": {},
   "outputs": [
    {
     "name": "stdout",
     "output_type": "stream",
     "text": [
      "threshold test area:: [ 0 , 0.036410246980223215 ] ,step: 0.00036410246980223216\n"
     ]
    },
    {
     "name": "stderr",
     "output_type": "stream",
     "text": [
      " 74%|███████▍  | 74/100 [00:06<00:01, 15.48it/s, Accuracy=0.58864, Recall=1.00000, Precision=0.58864]d:\\狠狠地干活\\自主学习IDS\\AutoEncoder\\AEhelper.py:86: RuntimeWarning: invalid value encountered in longlong_scalars\n",
      "  pre=(TP)/(TP+FP)\n",
      " 76%|███████▌  | 76/100 [00:06<00:01, 14.48it/s, Accuracy=0.58864, Recall=1.00000, Precision=0.58864]d:\\狠狠地干活\\自主学习IDS\\AutoEncoder\\AEhelper.py:86: RuntimeWarning: invalid value encountered in longlong_scalars\n",
      "  pre=(TP)/(TP+FP)\n",
      " 76%|███████▌  | 76/100 [00:06<00:01, 14.48it/s, Accuracy=0.58864, Recall=1.00000, Precision=0.58864]d:\\狠狠地干活\\自主学习IDS\\AutoEncoder\\AEhelper.py:86: RuntimeWarning: invalid value encountered in longlong_scalars\n",
      "  pre=(TP)/(TP+FP)\n",
      " 78%|███████▊  | 78/100 [00:06<00:01, 12.07it/s, Accuracy=0.58864, Recall=1.00000, Precision=0.58864]d:\\狠狠地干活\\自主学习IDS\\AutoEncoder\\AEhelper.py:86: RuntimeWarning: invalid value encountered in longlong_scalars\n",
      "  pre=(TP)/(TP+FP)\n",
      " 78%|███████▊  | 78/100 [00:06<00:01, 12.07it/s, Accuracy=0.58864, Recall=1.00000, Precision=0.58864]d:\\狠狠地干活\\自主学习IDS\\AutoEncoder\\AEhelper.py:86: RuntimeWarning: invalid value encountered in longlong_scalars\n",
      "  pre=(TP)/(TP+FP)\n",
      " 80%|████████  | 80/100 [00:06<00:01, 10.79it/s, Accuracy=0.58864, Recall=1.00000, Precision=0.58864]d:\\狠狠地干活\\自主学习IDS\\AutoEncoder\\AEhelper.py:86: RuntimeWarning: invalid value encountered in longlong_scalars\n",
      "  pre=(TP)/(TP+FP)\n",
      " 80%|████████  | 80/100 [00:07<00:01, 10.79it/s, Accuracy=0.58864, Recall=1.00000, Precision=0.58864]d:\\狠狠地干活\\自主学习IDS\\AutoEncoder\\AEhelper.py:86: RuntimeWarning: invalid value encountered in longlong_scalars\n",
      "  pre=(TP)/(TP+FP)\n",
      " 82%|████████▏ | 82/100 [00:07<00:01,  9.73it/s, Accuracy=0.58864, Recall=1.00000, Precision=0.58864]d:\\狠狠地干活\\自主学习IDS\\AutoEncoder\\AEhelper.py:86: RuntimeWarning: invalid value encountered in longlong_scalars\n",
      "  pre=(TP)/(TP+FP)\n",
      " 82%|████████▏ | 82/100 [00:07<00:01,  9.73it/s, Accuracy=0.58864, Recall=1.00000, Precision=0.58864]d:\\狠狠地干活\\自主学习IDS\\AutoEncoder\\AEhelper.py:86: RuntimeWarning: invalid value encountered in longlong_scalars\n",
      "  pre=(TP)/(TP+FP)\n",
      " 84%|████████▍ | 84/100 [00:07<00:01, 10.26it/s, Accuracy=0.58864, Recall=1.00000, Precision=0.58864]d:\\狠狠地干活\\自主学习IDS\\AutoEncoder\\AEhelper.py:86: RuntimeWarning: invalid value encountered in longlong_scalars\n",
      "  pre=(TP)/(TP+FP)\n",
      " 84%|████████▍ | 84/100 [00:07<00:01, 10.26it/s, Accuracy=0.58864, Recall=1.00000, Precision=0.58864]d:\\狠狠地干活\\自主学习IDS\\AutoEncoder\\AEhelper.py:86: RuntimeWarning: invalid value encountered in longlong_scalars\n",
      "  pre=(TP)/(TP+FP)\n",
      " 86%|████████▌ | 86/100 [00:07<00:01, 11.13it/s, Accuracy=0.58864, Recall=1.00000, Precision=0.58864]d:\\狠狠地干活\\自主学习IDS\\AutoEncoder\\AEhelper.py:86: RuntimeWarning: invalid value encountered in longlong_scalars\n",
      "  pre=(TP)/(TP+FP)\n",
      " 86%|████████▌ | 86/100 [00:07<00:01, 11.13it/s, Accuracy=0.58864, Recall=1.00000, Precision=0.58864]d:\\狠狠地干活\\自主学习IDS\\AutoEncoder\\AEhelper.py:86: RuntimeWarning: invalid value encountered in longlong_scalars\n",
      "  pre=(TP)/(TP+FP)\n",
      " 88%|████████▊ | 88/100 [00:07<00:01, 11.28it/s, Accuracy=0.58864, Recall=1.00000, Precision=0.58864]d:\\狠狠地干活\\自主学习IDS\\AutoEncoder\\AEhelper.py:86: RuntimeWarning: invalid value encountered in longlong_scalars\n",
      "  pre=(TP)/(TP+FP)\n",
      " 88%|████████▊ | 88/100 [00:07<00:01, 11.28it/s, Accuracy=0.58864, Recall=1.00000, Precision=0.58864]d:\\狠狠地干活\\自主学习IDS\\AutoEncoder\\AEhelper.py:86: RuntimeWarning: invalid value encountered in longlong_scalars\n",
      "  pre=(TP)/(TP+FP)\n",
      " 90%|█████████ | 90/100 [00:07<00:00, 10.90it/s, Accuracy=0.58864, Recall=1.00000, Precision=0.58864]d:\\狠狠地干活\\自主学习IDS\\AutoEncoder\\AEhelper.py:86: RuntimeWarning: invalid value encountered in longlong_scalars\n",
      "  pre=(TP)/(TP+FP)\n",
      " 90%|█████████ | 90/100 [00:07<00:00, 10.90it/s, Accuracy=0.58864, Recall=1.00000, Precision=0.58864]d:\\狠狠地干活\\自主学习IDS\\AutoEncoder\\AEhelper.py:86: RuntimeWarning: invalid value encountered in longlong_scalars\n",
      "  pre=(TP)/(TP+FP)\n",
      " 92%|█████████▏| 92/100 [00:08<00:00, 10.91it/s, Accuracy=0.58864, Recall=1.00000, Precision=0.58864]d:\\狠狠地干活\\自主学习IDS\\AutoEncoder\\AEhelper.py:86: RuntimeWarning: invalid value encountered in longlong_scalars\n",
      "  pre=(TP)/(TP+FP)\n",
      " 92%|█████████▏| 92/100 [00:08<00:00, 10.91it/s, Accuracy=0.58864, Recall=1.00000, Precision=0.58864]d:\\狠狠地干活\\自主学习IDS\\AutoEncoder\\AEhelper.py:86: RuntimeWarning: invalid value encountered in longlong_scalars\n",
      "  pre=(TP)/(TP+FP)\n",
      " 94%|█████████▍| 94/100 [00:08<00:00, 11.17it/s, Accuracy=0.58864, Recall=1.00000, Precision=0.58864]d:\\狠狠地干活\\自主学习IDS\\AutoEncoder\\AEhelper.py:86: RuntimeWarning: invalid value encountered in longlong_scalars\n",
      "  pre=(TP)/(TP+FP)\n",
      " 94%|█████████▍| 94/100 [00:08<00:00, 11.17it/s, Accuracy=0.58864, Recall=1.00000, Precision=0.58864]d:\\狠狠地干活\\自主学习IDS\\AutoEncoder\\AEhelper.py:86: RuntimeWarning: invalid value encountered in longlong_scalars\n",
      "  pre=(TP)/(TP+FP)\n",
      " 96%|█████████▌| 96/100 [00:08<00:00, 11.11it/s, Accuracy=0.58864, Recall=1.00000, Precision=0.58864]d:\\狠狠地干活\\自主学习IDS\\AutoEncoder\\AEhelper.py:86: RuntimeWarning: invalid value encountered in longlong_scalars\n",
      "  pre=(TP)/(TP+FP)\n",
      " 96%|█████████▌| 96/100 [00:08<00:00, 11.11it/s, Accuracy=0.58864, Recall=1.00000, Precision=0.58864]d:\\狠狠地干活\\自主学习IDS\\AutoEncoder\\AEhelper.py:86: RuntimeWarning: invalid value encountered in longlong_scalars\n",
      "  pre=(TP)/(TP+FP)\n",
      " 98%|█████████▊| 98/100 [00:08<00:00, 11.30it/s, Accuracy=0.58864, Recall=1.00000, Precision=0.58864]d:\\狠狠地干活\\自主学习IDS\\AutoEncoder\\AEhelper.py:86: RuntimeWarning: invalid value encountered in longlong_scalars\n",
      "  pre=(TP)/(TP+FP)\n",
      " 98%|█████████▊| 98/100 [00:08<00:00, 11.30it/s, Accuracy=0.58864, Recall=1.00000, Precision=0.58864]d:\\狠狠地干活\\自主学习IDS\\AutoEncoder\\AEhelper.py:86: RuntimeWarning: invalid value encountered in longlong_scalars\n",
      "  pre=(TP)/(TP+FP)\n",
      "100%|██████████| 100/100 [00:08<00:00, 11.48it/s, Accuracy=0.58864, Recall=1.00000, Precision=0.58864]"
     ]
    },
    {
     "name": "stdout",
     "output_type": "stream",
     "text": [
      "threshold: 0.0\n"
     ]
    },
    {
     "name": "stderr",
     "output_type": "stream",
     "text": [
      "\n"
     ]
    }
   ],
   "source": [
    "train_loss=[0.0273,0.0046,0.0045,0.0045,0.0045,]\n",
    "mean=np.mean(train_loss)\n",
    "std=np.std(train_loss)\n",
    "maxium=min(1,mean+3*std)\n",
    "minium=max(0,mean-3*std)\n",
    "step=(maxium-minium)/100\n",
    "print('threshold test area::','[',str(minium),',',str(maxium),']',',step:',str(step))\n",
    "ba,br,bp=0,0,0\n",
    "with tqdm(total=100) as t : \n",
    "    for i in np.arange(minium,maxium,step):\n",
    "        scored_data,score=ae.Assessment(threshold=i,\n",
    "                                        pred_data=predloss,\n",
    "                                        )\n",
    "        if(score['Accuracy']>ba):\n",
    "            ba=score['Accuracy']\n",
    "            br=score['Recall']\n",
    "            bp=score['Precision']\n",
    "            bestthreshold=i\n",
    "            bs=scored_data\n",
    "        \n",
    "        t.set_postfix({'Accuracy':'{0:1.5f}'.format(ba),\n",
    "                        'Recall':'{0:1.5f}'.format(br),\n",
    "                        'Precision':'{0:1.5f}'.format(bp)\n",
    "                        })\n",
    "        t.update(1)\n",
    "        \n",
    "print('threshold:',bestthreshold)"
   ]
  },
  {
   "cell_type": "code",
   "execution_count": 19,
   "metadata": {},
   "outputs": [
    {
     "data": {
      "image/png": "[encoded data removed]",
      "text/plain": [
       "<Figure size 640x480 with 1 Axes>"
      ]
     },
     "metadata": {},
     "output_type": "display_data"
    }
   ],
   "source": [
    "x=bs['Loss']\n",
    "plt.title('loss distribute')\n",
    "plt.xlabel('loss')\n",
    "plt.ylabel('num of example')\n",
    "plt.hist(x,bins=50)\n",
    "plt.vlines(x=bestthreshold,ymin=0,ymax=20000,linestyles='dashed',colors='red',label='threshold='+'{0:1.3f}'.format(bestthreshold))\n",
    "plt.legend()\n",
    "plt.show()"
   ]
  }
 ],
 "metadata": {
  "kernelspec": {
   "display_name": "tensorflow",
   "language": "python",
   "name": "python3"
  },
  "language_info": {
   "codemirror_mode": {
    "name": "ipython",
    "version": 3
   },
   "file_extension": ".py",
   "mimetype": "text/x-python",
   "name": "python",
   "nbconvert_exporter": "python",
   "pygments_lexer": "ipython3",
   "version": "3.8.16"
  },
  "orig_nbformat": 4,
  "vscode": {
   "interpreter": {
    "hash": "1e14dff31657d72d8f438edb53d1760a8d6796be921cd9f1003fb34023c1344f"
   }
  }
 },
 "nbformat": 4,
 "nbformat_minor": 2
}
