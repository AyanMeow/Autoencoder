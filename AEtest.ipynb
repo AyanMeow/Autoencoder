{
 "cells": [
  {
   "cell_type": "code",
   "execution_count": 1,
   "metadata": {},
   "outputs": [],
   "source": [
    "%load_ext autoreload\n",
    "%autoreload 2\n",
    "import HyperParam as hp\n",
    "import AEhelper as ae\n",
    "import tensorflow as tf\n",
    "import pandas as pd\n",
    "import matplotlib as mpl\n",
    "import numpy as np\n",
    "import matplotlib.pyplot as plt\n",
    "import sklearn\n",
    " \n",
    "from sklearn import preprocessing\n",
    "from tensorflow import keras\n",
    "from tensorflow.keras import optimizers\n",
    "from pandas import DataFrame\n",
    "\n",
    "pd.set_option(\"display.max_columns\",200)"
   ]
  },
  {
   "cell_type": "code",
   "execution_count": 2,
   "metadata": {},
   "outputs": [],
   "source": [
    "def load_train_data(dataset_path='D:/狠狠地干活/dataset/IDS2018/IDS2018/',traindata_file='Friday-23-02-2018_TrafficForML_CICFlowMeter.csv'):    \n",
    "    #读取数据\n",
    "    datatemp=pd.read_csv(dataset_path+traindata_file,index_col=False)\n",
    "    #筛选所有非正常数据 ~label=Benign\n",
    "    dataf=datatemp.loc[~datatemp['Label'].isin(['Benign'])]\n",
    "    #筛选所有正常数据 label=Benign\n",
    "    datatemp=datatemp.loc[datatemp['Label'].isin(['Benign'])]\n",
    "    #print(datatemp['Label'].value_counts())\n",
    "    datatemp=datatemp.reset_index(drop=True)\n",
    "    dataf=dataf.reset_index(drop=True)\n",
    "    \n",
    "    data_afterdrop=datatemp.drop(columns=['Label','Timestamp'])\n",
    "    dataf=dataf.drop(columns=['Label','Timestamp'])\n",
    "    \n",
    "    #data_standlize=data_afterdrop.apply(lambda x : (x-np.mean(x))/np.std(x))\n",
    "    #dataf=dataf.applymap(lambda x : (x-np.mean(x))/np.std(x))\n",
    "    \n",
    "    data_normolize=data_afterdrop.apply(lambda x: (x-np.min(x))/(np.max(x)-np.min(x)))\n",
    "    dataf=dataf.apply(lambda x: (x-np.min(x))/(np.max(x)-np.min(x)))\n",
    "    \n",
    "    data_normolize=data_normolize.fillna(0)\n",
    "    dataf=dataf.fillna(0)\n",
    "    \n",
    "    print(data_normolize.shape,dataf.shape)\n",
    "    \n",
    "    return data_normolize,dataf\n"
   ]
  },
  {
   "cell_type": "code",
   "execution_count": 3,
   "metadata": {},
   "outputs": [],
   "source": [
    "def label_change(x):\n",
    "    if(x == 'Benign'):\n",
    "        return False\n",
    "    else:\n",
    "        return True\n",
    "        "
   ]
  },
  {
   "cell_type": "code",
   "execution_count": 4,
   "metadata": {},
   "outputs": [],
   "source": [
    "def load_test_data(dataset_path='D:/狠狠地干活/dataset/IDS2018/IDS2018/',testdata_file='Friday-23-02-2018_TrafficForML_CICFlowMeter.csv'):\n",
    "    #读取数据\n",
    "    datatemp=pd.read_csv(dataset_path+testdata_file,index_col=False)\n",
    "    datatemp=datatemp.reset_index(drop=True)\n",
    "    #正常数据太多，只取200\n",
    "    normal=datatemp.loc[datatemp['Label'].isin(['Benign'])]\n",
    "    normal=normal.reset_index(drop=True)\n",
    "    abnormal=datatemp.loc[~datatemp['Label'].isin(['Benign'])]\n",
    "    abnormal=abnormal.reset_index(drop=True)\n",
    "    s_normal=normal.sample(n=200)\n",
    "    s_normal=s_normal.reset_index(drop=True)\n",
    "    #拼接200个好数据和n个坏数据\n",
    "    datatemp=pd.concat([s_normal,abnormal],axis=0)\n",
    "    #打乱\n",
    "    datatemp=datatemp.sample(frac=1)\n",
    "    datatemp=datatemp.reset_index(drop=True)\n",
    "    #标签和数据分离\n",
    "    data_label=DataFrame(index=datatemp.index)\n",
    "    data_label['Label']=datatemp['Label']\n",
    "    data_label=data_label.applymap(label_change)\n",
    "    \n",
    "    data_afterdrop=datatemp.drop(columns=['Label','Timestamp'])\n",
    "    #data_standlize=data_afterdrop.apply(lambda x : (x-np.mean(x))/np.std(x))\n",
    "    data_normolize=data_afterdrop.apply(lambda x: (x-np.min(x))/(np.max(x)-np.min(x)))\n",
    "    data_normolize=data_normolize.fillna(0)\n",
    "    return data_normolize,data_label\n",
    "    "
   ]
  },
  {
   "cell_type": "code",
   "execution_count": 36,
   "metadata": {},
   "outputs": [
    {
     "name": "stdout",
     "output_type": "stream",
     "text": [
      "(1048009, 78) (566, 78)\n",
      "xt: (838407, 78) xv: (566, 78)\n"
     ]
    }
   ],
   "source": [
    "temp,tempf=load_train_data()\n",
    "\n",
    "xt=temp.sample(frac=0.8)\n",
    "xv=tempf\n",
    "\"\"\"xv=temp[~temp.index.isin(xt.index)]\n",
    "xv=xv.reset_index(drop=True)\n",
    "tempf=tempf.reset_index(drop=True)\n",
    "print('before concat xv:',xv.shape)\n",
    "xv=pd.concat([xv,tempf],axis=0)\"\"\"\n",
    "\n",
    "print('xt:',xt.shape,'xv:',xv.shape)"
   ]
  },
  {
   "cell_type": "code",
   "execution_count": 37,
   "metadata": {},
   "outputs": [],
   "source": [
    "x_train=tf.convert_to_tensor(xt,dtype=tf.float32)\n",
    "x_val=tf.convert_to_tensor(xv,dtype=tf.float32)\n",
    "ds_train=tf.data.Dataset.from_tensor_slices((x_train,x_train)).shuffle(1312).batch(256)\n",
    "ds_val=tf.data.Dataset.from_tensor_slices((x_val,x_val)).shuffle(1312).batch(256)"
   ]
  },
  {
   "cell_type": "code",
   "execution_count": 38,
   "metadata": {},
   "outputs": [
    {
     "name": "stdout",
     "output_type": "stream",
     "text": [
      "Model: \"sequential_8\"\n",
      "_________________________________________________________________\n",
      "Layer (type)                 Output Shape              Param #   \n",
      "=================================================================\n",
      "dropout_78 (Dropout)         (None, 78)                0         \n",
      "_________________________________________________________________\n",
      "dense_86 (Dense)             (None, 100)               7900      \n",
      "_________________________________________________________________\n",
      "dropout_79 (Dropout)         (None, 100)               0         \n",
      "_________________________________________________________________\n",
      "dense_87 (Dense)             (None, 64)                6464      \n",
      "_________________________________________________________________\n",
      "dropout_80 (Dropout)         (None, 64)                0         \n",
      "_________________________________________________________________\n",
      "dense_88 (Dense)             (None, 32)                2080      \n",
      "_________________________________________________________________\n",
      "dropout_81 (Dropout)         (None, 32)                0         \n",
      "_________________________________________________________________\n",
      "dense_89 (Dense)             (None, 16)                528       \n",
      "_________________________________________________________________\n",
      "dropout_82 (Dropout)         (None, 16)                0         \n",
      "_________________________________________________________________\n",
      "dense_90 (Dense)             (None, 8)                 136       \n",
      "_________________________________________________________________\n",
      "dropout_83 (Dropout)         (None, 8)                 0         \n",
      "_________________________________________________________________\n",
      "dense_91 (Dense)             (None, 4)                 36        \n",
      "_________________________________________________________________\n",
      "dense_92 (Dense)             (None, 8)                 40        \n",
      "_________________________________________________________________\n",
      "dropout_84 (Dropout)         (None, 8)                 0         \n",
      "_________________________________________________________________\n",
      "dense_93 (Dense)             (None, 16)                144       \n",
      "_________________________________________________________________\n",
      "dropout_85 (Dropout)         (None, 16)                0         \n",
      "_________________________________________________________________\n",
      "dense_94 (Dense)             (None, 32)                544       \n",
      "_________________________________________________________________\n",
      "dropout_86 (Dropout)         (None, 32)                0         \n",
      "_________________________________________________________________\n",
      "dense_95 (Dense)             (None, 64)                2112      \n",
      "_________________________________________________________________\n",
      "dropout_87 (Dropout)         (None, 64)                0         \n",
      "_________________________________________________________________\n",
      "dense_96 (Dense)             (None, 100)               6500      \n",
      "_________________________________________________________________\n",
      "dropout_88 (Dropout)         (None, 100)               0         \n",
      "_________________________________________________________________\n",
      "dense_97 (Dense)             (None, 78)                7878      \n",
      "=================================================================\n",
      "Total params: 34,362\n",
      "Trainable params: 34,362\n",
      "Non-trainable params: 0\n",
      "_________________________________________________________________\n",
      "None\n",
      "开始训练\n",
      "Epoch 1/50\n",
      "3276/3276 [==============================] - 43s 13ms/step - loss: 0.1276 - val_loss: 0.1556\n",
      "Epoch 2/50\n",
      "3276/3276 [==============================] - 39s 12ms/step - loss: 0.0505 - val_loss: 0.1556\n",
      "Epoch 3/50\n",
      "3276/3276 [==============================] - 39s 12ms/step - loss: 0.0505 - val_loss: 0.1556\n",
      "Epoch 4/50\n",
      "3276/3276 [==============================] - 39s 12ms/step - loss: 0.0505 - val_loss: 0.1556\n",
      "Epoch 5/50\n",
      "3276/3276 [==============================] - 41s 13ms/step - loss: 0.0505 - val_loss: 0.1556\n",
      "Epoch 6/50\n",
      "3276/3276 [==============================] - 40s 12ms/step - loss: 0.0505 - val_loss: 0.1556\n",
      "Epoch 7/50\n",
      "3276/3276 [==============================] - 40s 12ms/step - loss: 0.0505 - val_loss: 0.1556\n",
      "Epoch 8/50\n",
      "3276/3276 [==============================] - 39s 12ms/step - loss: 0.0505 - val_loss: 0.1556\n",
      "Epoch 9/50\n",
      "3276/3276 [==============================] - 39s 12ms/step - loss: 0.0505 - val_loss: 0.1556\n",
      "Epoch 10/50\n",
      "3276/3276 [==============================] - 40s 12ms/step - loss: 0.0505 - val_loss: 0.1556\n",
      "Epoch 11/50\n",
      "3276/3276 [==============================] - 40s 12ms/step - loss: 0.0505 - val_loss: 0.1556\n",
      "Epoch 12/50\n",
      "3276/3276 [==============================] - 40s 12ms/step - loss: 0.0505 - val_loss: 0.1556\n",
      "Epoch 13/50\n",
      "3276/3276 [==============================] - 40s 12ms/step - loss: 0.0505 - val_loss: 0.1556\n",
      "Epoch 14/50\n",
      "3276/3276 [==============================] - 40s 12ms/step - loss: 0.0505 - val_loss: 0.1556\n",
      "Epoch 15/50\n",
      "3276/3276 [==============================] - 40s 12ms/step - loss: 0.0505 - val_loss: 0.1556\n",
      "Epoch 16/50\n",
      "3276/3276 [==============================] - 40s 12ms/step - loss: 0.0505 - val_loss: 0.1556\n",
      "Epoch 17/50\n",
      "3276/3276 [==============================] - 40s 12ms/step - loss: 0.0505 - val_loss: 0.1556\n",
      "Epoch 18/50\n",
      "3276/3276 [==============================] - 40s 12ms/step - loss: 0.0505 - val_loss: 0.1556\n",
      "Epoch 19/50\n",
      "3276/3276 [==============================] - 40s 12ms/step - loss: 0.0505 - val_loss: 0.1556\n",
      "Epoch 20/50\n",
      "3276/3276 [==============================] - 40s 12ms/step - loss: 0.0505 - val_loss: 0.1556\n",
      "Epoch 21/50\n",
      "3276/3276 [==============================] - 40s 12ms/step - loss: 0.0505 - val_loss: 0.1556\n",
      "Epoch 22/50\n",
      "3276/3276 [==============================] - 40s 12ms/step - loss: 0.0505 - val_loss: 0.1556\n",
      "Epoch 23/50\n",
      "3276/3276 [==============================] - 40s 12ms/step - loss: 0.0505 - val_loss: 0.1556\n",
      "Epoch 24/50\n",
      "3276/3276 [==============================] - 41s 13ms/step - loss: 0.0505 - val_loss: 0.1556\n",
      "Epoch 25/50\n",
      "3276/3276 [==============================] - 43s 13ms/step - loss: 0.0505 - val_loss: 0.1556\n",
      "Epoch 26/50\n",
      "3276/3276 [==============================] - 43s 13ms/step - loss: 0.0505 - val_loss: 0.1556\n",
      "Epoch 27/50\n",
      "3276/3276 [==============================] - 43s 13ms/step - loss: 0.0505 - val_loss: 0.1556\n",
      "Epoch 28/50\n",
      "3276/3276 [==============================] - 42s 13ms/step - loss: 0.0505 - val_loss: 0.1556\n",
      "Epoch 29/50\n",
      "3276/3276 [==============================] - 50s 15ms/step - loss: 0.0505 - val_loss: 0.1556\n",
      "Epoch 30/50\n",
      "3276/3276 [==============================] - 45s 14ms/step - loss: 0.0505 - val_loss: 0.1556\n",
      "Epoch 31/50\n",
      "3276/3276 [==============================] - 46s 14ms/step - loss: 0.0505 - val_loss: 0.1556\n",
      "Epoch 32/50\n",
      "3276/3276 [==============================] - 46s 14ms/step - loss: 0.0505 - val_loss: 0.1556\n",
      "Epoch 33/50\n",
      "3276/3276 [==============================] - 46s 14ms/step - loss: 0.0505 - val_loss: 0.1556\n",
      "Epoch 34/50\n",
      "3276/3276 [==============================] - 44s 13ms/step - loss: 0.0505 - val_loss: 0.1556\n",
      "Epoch 35/50\n",
      "3276/3276 [==============================] - 44s 13ms/step - loss: 0.0505 - val_loss: 0.1556\n",
      "Epoch 36/50\n",
      "3276/3276 [==============================] - 43s 13ms/step - loss: 0.0505 - val_loss: 0.1556\n",
      "Epoch 37/50\n",
      "3276/3276 [==============================] - 43s 13ms/step - loss: 0.0505 - val_loss: 0.1556\n",
      "Epoch 38/50\n",
      "3276/3276 [==============================] - 43s 13ms/step - loss: 0.0505 - val_loss: 0.1556\n",
      "Epoch 39/50\n",
      "3276/3276 [==============================] - 43s 13ms/step - loss: 0.0505 - val_loss: 0.1556\n",
      "Epoch 40/50\n",
      "3276/3276 [==============================] - 43s 13ms/step - loss: 0.0505 - val_loss: 0.1556\n",
      "Epoch 41/50\n",
      "3276/3276 [==============================] - 43s 13ms/step - loss: 0.0505 - val_loss: 0.1556\n",
      "Epoch 42/50\n",
      "3276/3276 [==============================] - 46s 14ms/step - loss: 0.0505 - val_loss: 0.1556\n",
      "Epoch 43/50\n",
      "3276/3276 [==============================] - 43s 13ms/step - loss: 0.0505 - val_loss: 0.1556\n",
      "Epoch 44/50\n",
      "3276/3276 [==============================] - 43s 13ms/step - loss: 0.0505 - val_loss: 0.1556\n",
      "Epoch 45/50\n",
      "3276/3276 [==============================] - 43s 13ms/step - loss: 0.0505 - val_loss: 0.1556\n",
      "Epoch 46/50\n",
      "3276/3276 [==============================] - 43s 13ms/step - loss: 0.0505 - val_loss: 0.1556\n",
      "Epoch 47/50\n",
      "3276/3276 [==============================] - 43s 13ms/step - loss: 0.0505 - val_loss: 0.1556\n",
      "Epoch 48/50\n",
      "3276/3276 [==============================] - 44s 13ms/step - loss: 0.0505 - val_loss: 0.1556\n",
      "Epoch 49/50\n",
      "3276/3276 [==============================] - 43s 13ms/step - loss: 0.0505 - val_loss: 0.1556\n",
      "Epoch 50/50\n",
      "3276/3276 [==============================] - 43s 13ms/step - loss: 0.0505 - val_loss: 0.1556\n"
     ]
    }
   ],
   "source": [
    "optimizer=optimizers.Adam(learning_rate=5e-4)\n",
    "\n",
    "hparam=hp.hyperP(model_name='model.h5',\n",
    "                 input_size=78,\n",
    "                 layers=[100,64,32,16,8,4],\n",
    "                 activation='relu',\n",
    "                 dropout_rate=[0,0.1,0.1,0.2,0.2,0.2],\n",
    "                 optimizer=optimizer,\n",
    "                 loss='mae'\n",
    "                 )\n",
    "hparam.epochs=50\n",
    "hparam.regularizer=0.01\n",
    "model=ae.creat_model_1D(hparam)\n",
    "history=ae.train(model=model,\n",
    "                 ds_train=ds_train,\n",
    "                 ds_val=ds_val,\n",
    "                 hp=hparam,\n",
    "            )"
   ]
  },
  {
   "cell_type": "code",
   "execution_count": 39,
   "metadata": {},
   "outputs": [
    {
     "name": "stdout",
     "output_type": "stream",
     "text": [
      "0.0519963800907135 0.010806007149157814\n"
     ]
    }
   ],
   "source": [
    "history.history['loss']\n",
    "t=np.mean(history.history['loss'])\n",
    "t2=np.std(history.history['loss'])\n",
    "print(t,t2)"
   ]
  },
  {
   "cell_type": "code",
   "execution_count": 7,
   "metadata": {},
   "outputs": [],
   "source": [
    "test_data,test_label=load_test_data(testdata_file='Thursday-22-02-2018_TrafficForML_CICFlowMeter.csv')\n",
    "#test_data.head(10)"
   ]
  },
  {
   "cell_type": "code",
   "execution_count": 41,
   "metadata": {},
   "outputs": [
    {
     "data": {
      "text/plain": [
       "True     362\n",
       "False    200\n",
       "Name: Label, dtype: int64"
      ]
     },
     "execution_count": 41,
     "metadata": {},
     "output_type": "execute_result"
    }
   ],
   "source": [
    "test_label['Label'].value_counts()"
   ]
  },
  {
   "cell_type": "code",
   "execution_count": 42,
   "metadata": {},
   "outputs": [
    {
     "name": "stdout",
     "output_type": "stream",
     "text": [
      "start predict...\n",
      "threshold test area:: [ 0.019578358643240062 , 0.08441440153818694 ] ,step: 0.0012967208578989376\n"
     ]
    },
    {
     "name": "stderr",
     "output_type": "stream",
     "text": [
      "100%|██████████| 50/50 [00:01<00:00, 33.92it/s, Accuracy=0.71352, Recall=1.00000, Precision=0.69216]"
     ]
    },
    {
     "name": "stdout",
     "output_type": "stream",
     "text": [
      "threshold: 0.02476524207483581\n"
     ]
    },
    {
     "name": "stderr",
     "output_type": "stream",
     "text": [
      "\n"
     ]
    }
   ],
   "source": [
    "threshold,pred_data,sd=ae.find_best_threshold(train_loss=history.history['loss'],\n",
    "                                 model=model,\n",
    "                                 ds_data=test_data,\n",
    "                                 ds_data_label=test_label,\n",
    "                            )"
   ]
  },
  {
   "cell_type": "code",
   "execution_count": 52,
   "metadata": {},
   "outputs": [
    {
     "data": {
      "image/png": "[encoded data removed]",
      "text/plain": [
       "<Figure size 640x480 with 1 Axes>"
      ]
     },
     "metadata": {},
     "output_type": "display_data"
    }
   ],
   "source": [
    "x=pred_data['Loss']\n",
    "plt.title('loss distribute')\n",
    "plt.xlabel('loss')\n",
    "plt.ylabel('num of example')\n",
    "plt.hist(x,bins=50)\n",
    "plt.vlines(x=threshold,ymin=0,ymax=200,linestyles='dashed',colors='red',label='threshold='+'{0:1.3f}'.format(threshold))\n",
    "plt.legend()\n",
    "plt.show()"
   ]
  },
  {
   "cell_type": "code",
   "execution_count": 53,
   "metadata": {},
   "outputs": [],
   "source": [
    "thresholds=[0.025,]"
   ]
  },
  {
   "cell_type": "code",
   "execution_count": 8,
   "metadata": {},
   "outputs": [
    {
     "data": {
      "text/plain": [
       "True     52498\n",
       "False      200\n",
       "Name: Label, dtype: int64"
      ]
     },
     "execution_count": 8,
     "metadata": {},
     "output_type": "execute_result"
    }
   ],
   "source": [
    "test_data_ii,test_label_ii=load_test_data(testdata_file='Thursday-15-02-2018_TrafficForML_CICFlowMeter.csv')\n",
    "test_label_ii['Label'].value_counts()"
   ]
  },
  {
   "cell_type": "code",
   "execution_count": 14,
   "metadata": {},
   "outputs": [
    {
     "name": "stdout",
     "output_type": "stream",
     "text": [
      "{'Accuracy': 0.8595961896087138, 'Recall': 0.8625280963084307, 'Precision': 0.9959967446055034}\n"
     ]
    }
   ],
   "source": [
    "mod=tf.keras.models.load_model('autoencoder.h5')\n",
    "predic=ae.test(mod,test_data_ii,test_label_ii)\n",
    "sdd,score_test=ae.Assessment(0.025,predic)\n",
    "print(score_test)"
   ]
  },
  {
   "cell_type": "code",
   "execution_count": 19,
   "metadata": {},
   "outputs": [
    {
     "data": {
      "image/png": "[encoded data removed]",
      "text/plain": [
       "<Figure size 640x480 with 1 Axes>"
      ]
     },
     "metadata": {},
     "output_type": "display_data"
    }
   ],
   "source": [
    "x=sdd['Loss']\n",
    "plt.title('loss distribute')\n",
    "plt.xlabel('loss')\n",
    "plt.ylabel('num of example')\n",
    "plt.hist(x,bins=30)\n",
    "plt.vlines(x=0.025,ymin=0,ymax=10000,linestyles='dashed',colors='red',label='threshold='+'{0:1.3f}'.format(0.025))\n",
    "plt.legend()\n",
    "plt.show()"
   ]
  }
 ],
 "metadata": {
  "kernelspec": {
   "display_name": "tensorflow",
   "language": "python",
   "name": "python3"
  },
  "language_info": {
   "codemirror_mode": {
    "name": "ipython",
    "version": 3
   },
   "file_extension": ".py",
   "mimetype": "text/x-python",
   "name": "python",
   "nbconvert_exporter": "python",
   "pygments_lexer": "ipython3",
   "version": "3.8.16"
  },
  "orig_nbformat": 4,
  "vscode": {
   "interpreter": {
    "hash": "1e14dff31657d72d8f438edb53d1760a8d6796be921cd9f1003fb34023c1344f"
   }
  }
 },
 "nbformat": 4,
 "nbformat_minor": 2
}
